{
 "cells": [
  {
   "cell_type": "markdown",
   "metadata": {},
   "source": [
    "# Etude de cas data BCG ClientCo, Groupe 9\n",
    "\n",
    "# Churn prediction use case\n",
    "# Testing different Models\n",
    "\n"
   ]
  },
  {
   "cell_type": "markdown",
   "metadata": {},
   "source": [
    "## Imports "
   ]
  },
  {
   "cell_type": "code",
   "execution_count": 22,
   "metadata": {},
   "outputs": [],
   "source": [
    "import math\n",
    "import sklearn\n",
    "import numpy as np\n",
    "import pandas as pd\n",
    "import datetime\n",
    "from scipy import stats\n",
    "from tqdm import tqdm_notebook as tqdm\n",
    "from collections import Counter\n",
    "from functools import reduce\n",
    "from matplotlib import pyplot as plt\n",
    "from time import time\n",
    "from sklearn.decomposition import PCA\n",
    "from sklearn.naive_bayes import GaussianNB\n",
    "from sklearn import tree\n",
    "import graphviz \n",
    "from sklearn.metrics import plot_confusion_matrix\n",
    "from sklearn.ensemble import GradientBoostingClassifier\n",
    "from sklearn.ensemble import AdaBoostClassifier\n",
    "import warnings\n",
    "warnings.filterwarnings(\"ignore\")"
   ]
  },
  {
   "cell_type": "markdown",
   "metadata": {},
   "source": [
    "# Creation of a complete DataSet"
   ]
  },
  {
   "cell_type": "code",
   "execution_count": 23,
   "metadata": {},
   "outputs": [],
   "source": [
    "pd.set_option('display.max_rows', 50)\n",
    "data_set = pd.read_csv('./customers_pre_2019.csv')\n",
    "data_post = pd.read_csv('./customers_post_2019.csv')\n",
    "\n",
    "# defining Labels : if Client bought in 2019 then he is labeled 0 (not churn) otherwise he is labeled 1 (churn)\n",
    "clients_y = data_post.client_id.unique()\n",
    "L = [(x in clients_y) for x in data_set.client_id.unique()]\n",
    "data_set['churn'] = [abs(x*1-1) for x in L]\n",
    "\n",
    "data_set['slope_delta_time'] = data_set['slope_delta_time']*data_set['r2_delta_time']\n",
    "data_set['slope_sales'] = data_set['slope_sales']*data_set['r2_sales']\n",
    "\n",
    "data_set.drop(['r2_sales','r2_delta_time','last_channel'],axis=1,inplace=True)\n",
    "\n",
    "data_set.set_index('client_id',inplace=True)\n",
    "\n",
    "X = data_set\n",
    "X = X.loc[(X.Frequency > 6) ] # we keep only customers with enough data\n",
    "X.dropna(inplace=True)\n",
    "\n",
    "df_X = pd.DataFrame(X)\n",
    "\n",
    "y = df_X['churn'] \n",
    "data_X = df_X.drop(['churn'],axis=1)"
   ]
  },
  {
   "cell_type": "markdown",
   "metadata": {},
   "source": [
    "### Correlations"
   ]
  },
  {
   "cell_type": "code",
   "execution_count": 24,
   "metadata": {
    "scrolled": false
   },
   "outputs": [
    {
     "data": {
      "text/html": [
       "<div>\n",
       "<style scoped>\n",
       "    .dataframe tbody tr th:only-of-type {\n",
       "        vertical-align: middle;\n",
       "    }\n",
       "\n",
       "    .dataframe tbody tr th {\n",
       "        vertical-align: top;\n",
       "    }\n",
       "\n",
       "    .dataframe thead th {\n",
       "        text-align: right;\n",
       "    }\n",
       "</style>\n",
       "<table border=\"1\" class=\"dataframe\">\n",
       "  <thead>\n",
       "    <tr style=\"text-align: right;\">\n",
       "      <th></th>\n",
       "      <th>churn</th>\n",
       "    </tr>\n",
       "  </thead>\n",
       "  <tbody>\n",
       "    <tr>\n",
       "      <td>churn</td>\n",
       "      <td>1.000000</td>\n",
       "    </tr>\n",
       "    <tr>\n",
       "      <td>Recency</td>\n",
       "      <td>0.571969</td>\n",
       "    </tr>\n",
       "    <tr>\n",
       "      <td>slope_sales</td>\n",
       "      <td>0.178475</td>\n",
       "    </tr>\n",
       "    <tr>\n",
       "      <td>Frequency</td>\n",
       "      <td>-0.120042</td>\n",
       "    </tr>\n",
       "    <tr>\n",
       "      <td>avg_last_3_delta</td>\n",
       "      <td>0.113205</td>\n",
       "    </tr>\n",
       "    <tr>\n",
       "      <td>std_delta_time</td>\n",
       "      <td>0.096092</td>\n",
       "    </tr>\n",
       "    <tr>\n",
       "      <td>last_delta_time</td>\n",
       "      <td>0.094157</td>\n",
       "    </tr>\n",
       "    <tr>\n",
       "      <td>total_revenue</td>\n",
       "      <td>-0.071348</td>\n",
       "    </tr>\n",
       "    <tr>\n",
       "      <td>q9</td>\n",
       "      <td>0.068340</td>\n",
       "    </tr>\n",
       "    <tr>\n",
       "      <td>avg_delta_time</td>\n",
       "      <td>0.066001</td>\n",
       "    </tr>\n",
       "    <tr>\n",
       "      <td>max_delta_time</td>\n",
       "      <td>0.063835</td>\n",
       "    </tr>\n",
       "    <tr>\n",
       "      <td>q85</td>\n",
       "      <td>0.055211</td>\n",
       "    </tr>\n",
       "    <tr>\n",
       "      <td>q8</td>\n",
       "      <td>0.043472</td>\n",
       "    </tr>\n",
       "    <tr>\n",
       "      <td>avg_last_3_delays</td>\n",
       "      <td>0.043176</td>\n",
       "    </tr>\n",
       "    <tr>\n",
       "      <td>q75</td>\n",
       "      <td>0.038751</td>\n",
       "    </tr>\n",
       "    <tr>\n",
       "      <td>max_order</td>\n",
       "      <td>-0.034945</td>\n",
       "    </tr>\n",
       "    <tr>\n",
       "      <td>q7</td>\n",
       "      <td>0.032384</td>\n",
       "    </tr>\n",
       "    <tr>\n",
       "      <td>q6</td>\n",
       "      <td>0.017960</td>\n",
       "    </tr>\n",
       "    <tr>\n",
       "      <td>median_delta_time</td>\n",
       "      <td>0.012362</td>\n",
       "    </tr>\n",
       "    <tr>\n",
       "      <td>AOV</td>\n",
       "      <td>0.011973</td>\n",
       "    </tr>\n",
       "    <tr>\n",
       "      <td>slope_delta_time</td>\n",
       "      <td>-0.011400</td>\n",
       "    </tr>\n",
       "    <tr>\n",
       "      <td>last_purchase</td>\n",
       "      <td>-0.011157</td>\n",
       "    </tr>\n",
       "  </tbody>\n",
       "</table>\n",
       "</div>"
      ],
      "text/plain": [
       "                      churn\n",
       "churn              1.000000\n",
       "Recency            0.571969\n",
       "slope_sales        0.178475\n",
       "Frequency         -0.120042\n",
       "avg_last_3_delta   0.113205\n",
       "std_delta_time     0.096092\n",
       "last_delta_time    0.094157\n",
       "total_revenue     -0.071348\n",
       "q9                 0.068340\n",
       "avg_delta_time     0.066001\n",
       "max_delta_time     0.063835\n",
       "q85                0.055211\n",
       "q8                 0.043472\n",
       "avg_last_3_delays  0.043176\n",
       "q75                0.038751\n",
       "max_order         -0.034945\n",
       "q7                 0.032384\n",
       "q6                 0.017960\n",
       "median_delta_time  0.012362\n",
       "AOV                0.011973\n",
       "slope_delta_time  -0.011400\n",
       "last_purchase     -0.011157"
      ]
     },
     "execution_count": 24,
     "metadata": {},
     "output_type": "execute_result"
    }
   ],
   "source": [
    "# Correlation as an indication for feature relevance\n",
    "df_corr = df_X.corr()[['churn']]\n",
    "df_corr['abs_churn'] = abs(df_corr.churn)\n",
    "df_corr = df_corr.sort_values(by=['abs_churn'],ascending=False)[['churn']]\n",
    "df_corr"
   ]
  },
  {
   "cell_type": "code",
   "execution_count": 26,
   "metadata": {},
   "outputs": [],
   "source": [
    "# We select the features\n",
    "columns = ['Frequency','AOV','total_revenue','max_order','last_purchase','std_delta_time',\n",
    "          'q9','slope_sales','slope_delta_time']\n",
    "data_X = data_X[columns]\n"
   ]
  },
  {
   "cell_type": "code",
   "execution_count": 27,
   "metadata": {},
   "outputs": [
    {
     "data": {
      "text/html": [
       "<div>\n",
       "<style scoped>\n",
       "    .dataframe tbody tr th:only-of-type {\n",
       "        vertical-align: middle;\n",
       "    }\n",
       "\n",
       "    .dataframe tbody tr th {\n",
       "        vertical-align: top;\n",
       "    }\n",
       "\n",
       "    .dataframe thead th {\n",
       "        text-align: right;\n",
       "    }\n",
       "</style>\n",
       "<table border=\"1\" class=\"dataframe\">\n",
       "  <thead>\n",
       "    <tr style=\"text-align: right;\">\n",
       "      <th></th>\n",
       "      <th>Frequency</th>\n",
       "      <th>AOV</th>\n",
       "      <th>total_revenue</th>\n",
       "      <th>max_order</th>\n",
       "      <th>last_purchase</th>\n",
       "      <th>std_delta_time</th>\n",
       "      <th>q9</th>\n",
       "      <th>slope_sales</th>\n",
       "      <th>slope_delta_time</th>\n",
       "    </tr>\n",
       "    <tr>\n",
       "      <th>client_id</th>\n",
       "      <th></th>\n",
       "      <th></th>\n",
       "      <th></th>\n",
       "      <th></th>\n",
       "      <th></th>\n",
       "      <th></th>\n",
       "      <th></th>\n",
       "      <th></th>\n",
       "      <th></th>\n",
       "    </tr>\n",
       "  </thead>\n",
       "  <tbody>\n",
       "    <tr>\n",
       "      <td>6</td>\n",
       "      <td>7</td>\n",
       "      <td>451.477729</td>\n",
       "      <td>3.160344e+03</td>\n",
       "      <td>1358.089878</td>\n",
       "      <td>98.8770</td>\n",
       "      <td>76.735042</td>\n",
       "      <td>157.5</td>\n",
       "      <td>5.096656e-03</td>\n",
       "      <td>-0.721056</td>\n",
       "    </tr>\n",
       "    <tr>\n",
       "      <td>14</td>\n",
       "      <td>1358</td>\n",
       "      <td>1452.360862</td>\n",
       "      <td>1.972306e+06</td>\n",
       "      <td>40529.598120</td>\n",
       "      <td>113.5740</td>\n",
       "      <td>0.763622</td>\n",
       "      <td>1.0</td>\n",
       "      <td>3.209852e-08</td>\n",
       "      <td>0.001581</td>\n",
       "    </tr>\n",
       "    <tr>\n",
       "      <td>18</td>\n",
       "      <td>306</td>\n",
       "      <td>454.009317</td>\n",
       "      <td>1.389269e+05</td>\n",
       "      <td>11578.098800</td>\n",
       "      <td>372.4068</td>\n",
       "      <td>2.371881</td>\n",
       "      <td>4.0</td>\n",
       "      <td>4.345515e-10</td>\n",
       "      <td>0.006866</td>\n",
       "    </tr>\n",
       "  </tbody>\n",
       "</table>\n",
       "</div>"
      ],
      "text/plain": [
       "           Frequency          AOV  total_revenue     max_order  last_purchase  \\\n",
       "client_id                                                                       \n",
       "6                  7   451.477729   3.160344e+03   1358.089878        98.8770   \n",
       "14              1358  1452.360862   1.972306e+06  40529.598120       113.5740   \n",
       "18               306   454.009317   1.389269e+05  11578.098800       372.4068   \n",
       "\n",
       "           std_delta_time     q9   slope_sales  slope_delta_time  \n",
       "client_id                                                         \n",
       "6               76.735042  157.5  5.096656e-03         -0.721056  \n",
       "14               0.763622    1.0  3.209852e-08          0.001581  \n",
       "18               2.371881    4.0  4.345515e-10          0.006866  "
      ]
     },
     "execution_count": 27,
     "metadata": {},
     "output_type": "execute_result"
    }
   ],
   "source": [
    "data_X.head(3)"
   ]
  },
  {
   "cell_type": "markdown",
   "metadata": {},
   "source": [
    "# Model Tuning"
   ]
  },
  {
   "cell_type": "code",
   "execution_count": 9,
   "metadata": {},
   "outputs": [],
   "source": [
    "from sklearn.model_selection import train_test_split, GridSearchCV, StratifiedKFold\n",
    "from sklearn.pipeline import Pipeline\n",
    "from sklearn.preprocessing import MinMaxScaler\n",
    "from sklearn.metrics import accuracy_score, f1_score, recall_score\n",
    "from sklearn.metrics import confusion_matrix\n",
    "from sklearn.svm import SVC\n",
    "from sklearn.naive_bayes import GaussianNB\n",
    "from sklearn.tree import DecisionTreeClassifier\n",
    "from sklearn.ensemble import RandomForestClassifier\n",
    "from sklearn.neighbors import KNeighborsClassifier\n",
    "from sklearn.linear_model import LogisticRegression"
   ]
  },
  {
   "cell_type": "code",
   "execution_count": 10,
   "metadata": {},
   "outputs": [],
   "source": [
    "scaler = MinMaxScaler(feature_range=(0, 1)) # min max scaler\n",
    "scoring = 'recall'\n",
    "X = data_X\n",
    "X_train, X_test, y_train, y_test = train_test_split(X, y, test_size=0.25, random_state=42)"
   ]
  },
  {
   "cell_type": "markdown",
   "metadata": {},
   "source": [
    "# Undersampling of Train Set"
   ]
  },
  {
   "cell_type": "code",
   "execution_count": 28,
   "metadata": {},
   "outputs": [
    {
     "name": "stdout",
     "output_type": "stream",
     "text": [
      "Random under-sampling:\n",
      "1    7991\n",
      "0    7991\n",
      "Name: churn, dtype: int64\n"
     ]
    }
   ],
   "source": [
    "df_train = pd.concat([X_train, y_train],axis=1)\n",
    "\n",
    "# Class count\n",
    "count_class_0, count_class_1 = df_train.churn.value_counts()\n",
    "\n",
    "# Divide by class\n",
    "df_class_0 = df_train[df_train['churn'] == 0]\n",
    "df_class_1 = df_train[df_train['churn'] == 1]\n",
    "\n",
    "repartition_rate = 1 # \n",
    "df_class_0_under = df_class_0.sample(count_class_1*repartition_rate)\n",
    "df_test_under = pd.concat([df_class_0_under, df_class_1], axis=0)\n",
    "\n",
    "print('Random under-sampling:')\n",
    "print(df_test_under.churn.value_counts())\n"
   ]
  },
  {
   "cell_type": "code",
   "execution_count": 29,
   "metadata": {},
   "outputs": [],
   "source": [
    "df_test_under = df_test_under.sample(frac=1) # Schuffle DataFrame"
   ]
  },
  {
   "cell_type": "code",
   "execution_count": 30,
   "metadata": {},
   "outputs": [],
   "source": [
    "X_train = df_test_under[columns]\n",
    "y_train = df_test_under.churn"
   ]
  },
  {
   "cell_type": "markdown",
   "metadata": {},
   "source": [
    "## Logistic Regression"
   ]
  },
  {
   "cell_type": "code",
   "execution_count": 14,
   "metadata": {},
   "outputs": [
    {
     "name": "stdout",
     "output_type": "stream",
     "text": [
      "Résultats de la validation croisée :\n",
      "\n",
      "recall = 0.466 (+/-0.040) for {'logreg__C': 0.01}\n",
      "accuracy = 0.587  \n",
      "\n",
      "recall = 0.479 (+/-0.068) for {'logreg__C': 0.1}\n",
      "accuracy = 0.619  \n",
      "\n",
      "recall = 0.582 (+/-0.109) for {'logreg__C': 1}\n",
      "accuracy = 0.661  \n",
      "\n",
      "recall = 0.722 (+/-0.021) for {'logreg__C': 10.0}\n",
      "accuracy = 0.679  \n",
      "\n",
      "recall = 0.741 (+/-0.016) for {'logreg__C': 100.0}\n",
      "accuracy = 0.672  \n",
      "\n",
      "recall = 0.743 (+/-0.020) for {'logreg__C': 1000.0}\n",
      "accuracy = 0.669  \n",
      "\n",
      "recall = 0.743 (+/-0.021) for {'logreg__C': 10000.0}\n",
      "accuracy = 0.668  \n",
      "\n",
      "Best params : {'logreg__C': 10000.0}\n",
      "Prediction recall = 0.746\n",
      "Prediction accuracy = 0.619\n"
     ]
    }
   ],
   "source": [
    "pipeline =  Pipeline([('scaler', scaler),\n",
    "                      ('logreg', LogisticRegression(max_iter=10000))])\n",
    "param_grid = {'logreg__C': [1e-2, 1e-1, 1, 1e1, 1e2, 1e3, 1e4]}\n",
    "\n",
    "kfold = StratifiedKFold(n_splits=5)\n",
    "clf = GridSearchCV(pipeline, param_grid, cv=kfold, scoring=[scoring,'accuracy'],refit=scoring)\n",
    "clf.fit(X_train, y_train)\n",
    "\n",
    "y_pred = clf.predict(X_test)\n",
    "print(\"Résultats de la validation croisée :\")\n",
    "for mean,mean_accuracy, std, params in zip(clf.cv_results_['mean_test_'+str(scoring)],clf.cv_results_['mean_test_accuracy'], clf.cv_results_['std_test_'+str(scoring)], clf.cv_results_['params']):\n",
    "    print(\"\\n{} = {:.3f} (+/-{:.03f}) for {}\".format(scoring, mean, std*2, params))\n",
    "    print(\"{} = {:.3f}  \".format('accuracy', mean_accuracy))\n",
    "    \n",
    "print(\"\\nBest params : {}\".format(clf.best_params_)) \n",
    "print(\"Prediction recall = {:.3f}\".format(recall_score(y_test, y_pred))) \n",
    "print(\"Prediction accuracy = {:.3f}\".format(accuracy_score(y_test, y_pred)))"
   ]
  },
  {
   "cell_type": "code",
   "execution_count": 15,
   "metadata": {},
   "outputs": [
    {
     "name": "stdout",
     "output_type": "stream",
     "text": [
      "[[0.60254229 0.39745771]\n",
      " [0.25447244 0.74552756]]\n"
     ]
    },
    {
     "data": {
      "image/png": "[encoded data removed]",
      "text/plain": [
       "<Figure size 432x288 with 2 Axes>"
      ]
     },
     "metadata": {
      "needs_background": "light"
     },
     "output_type": "display_data"
    }
   ],
   "source": [
    "title = 'Confusion Matrix'\n",
    "disp = plot_confusion_matrix(clf, X_test, y_test,\n",
    "                             cmap=plt.cm.Blues,\n",
    "                             normalize='true')\n",
    "disp.ax_.set_title(title)\n",
    "\n",
    "print(disp.confusion_matrix)"
   ]
  },
  {
   "cell_type": "markdown",
   "metadata": {},
   "source": [
    "## Decision Tree"
   ]
  },
  {
   "cell_type": "code",
   "execution_count": 16,
   "metadata": {},
   "outputs": [
    {
     "name": "stdout",
     "output_type": "stream",
     "text": [
      "Résultats de la validation croisée :\n",
      "\n",
      "recall = 0.632 (+/-0.052) for {'decision_tree__max_depth': 1}\n",
      "accuracy = 0.661  \n",
      "\n",
      "recall = 0.632 (+/-0.052) for {'decision_tree__max_depth': 2}\n",
      "accuracy = 0.661  \n",
      "\n",
      "recall = 0.671 (+/-0.096) for {'decision_tree__max_depth': 3}\n",
      "accuracy = 0.689  \n",
      "\n",
      "recall = 0.734 (+/-0.085) for {'decision_tree__max_depth': 4}\n",
      "accuracy = 0.704  \n",
      "\n",
      "recall = 0.740 (+/-0.090) for {'decision_tree__max_depth': 5}\n",
      "accuracy = 0.707  \n",
      "\n",
      "recall = 0.724 (+/-0.049) for {'decision_tree__max_depth': 6}\n",
      "accuracy = 0.721  \n",
      "\n",
      "recall = 0.724 (+/-0.048) for {'decision_tree__max_depth': 7}\n",
      "accuracy = 0.724  \n",
      "\n",
      "recall = 0.730 (+/-0.037) for {'decision_tree__max_depth': 8}\n",
      "accuracy = 0.723  \n",
      "\n",
      "recall = 0.725 (+/-0.031) for {'decision_tree__max_depth': 9}\n",
      "accuracy = 0.715  \n",
      "\n",
      "recall = 0.717 (+/-0.046) for {'decision_tree__max_depth': 10}\n",
      "accuracy = 0.713  \n",
      "\n",
      "recall = 0.715 (+/-0.025) for {'decision_tree__max_depth': 11}\n",
      "accuracy = 0.707  \n",
      "\n",
      "recall = 0.706 (+/-0.020) for {'decision_tree__max_depth': 12}\n",
      "accuracy = 0.701  \n",
      "\n",
      "recall = 0.694 (+/-0.022) for {'decision_tree__max_depth': 13}\n",
      "accuracy = 0.689  \n",
      "\n",
      "recall = 0.695 (+/-0.026) for {'decision_tree__max_depth': 14}\n",
      "accuracy = 0.687  \n",
      "\n",
      "recall = 0.688 (+/-0.035) for {'decision_tree__max_depth': 15}\n",
      "accuracy = 0.683  \n",
      "\n",
      "recall = 0.674 (+/-0.032) for {'decision_tree__max_depth': 16}\n",
      "accuracy = 0.672  \n",
      "\n",
      "recall = 0.671 (+/-0.037) for {'decision_tree__max_depth': 17}\n",
      "accuracy = 0.671  \n",
      "\n",
      "recall = 0.664 (+/-0.034) for {'decision_tree__max_depth': 18}\n",
      "accuracy = 0.665  \n",
      "\n",
      "recall = 0.665 (+/-0.037) for {'decision_tree__max_depth': 19}\n",
      "accuracy = 0.664  \n",
      "\n",
      "recall = 0.661 (+/-0.042) for {'decision_tree__max_depth': 20}\n",
      "accuracy = 0.661  \n",
      "\n",
      "Best params : {'decision_tree__max_depth': 5}\n",
      "Prediction recall = 0.746\n",
      "Prediction accuracy = 0.686\n"
     ]
    }
   ],
   "source": [
    "pipeline =  Pipeline([\n",
    "                      ('decision_tree', DecisionTreeClassifier())])\n",
    "param_grid = {'decision_tree__max_depth': np.arange(1, 21)}\n",
    "\n",
    "kfold = StratifiedKFold(n_splits=10)\n",
    "clf = GridSearchCV(pipeline, param_grid, cv=kfold, scoring=[scoring,'accuracy'],refit=scoring)\n",
    "clf.fit(X_train, y_train)\n",
    "\n",
    "y_pred = clf.predict(X_test)\n",
    "print(\"Résultats de la validation croisée :\")\n",
    "for mean,mean_accuracy, std, params in zip(clf.cv_results_['mean_test_'+str(scoring)],clf.cv_results_['mean_test_accuracy'], clf.cv_results_['std_test_'+str(scoring)], clf.cv_results_['params']):\n",
    "    print(\"\\n{} = {:.3f} (+/-{:.03f}) for {}\".format(scoring, mean, std*2, params))\n",
    "    print(\"{} = {:.3f}  \".format('accuracy', mean_accuracy))\n",
    "\n",
    "print(\"\\nBest params : {}\".format(clf.best_params_)) \n",
    "print(\"Prediction recall = {:.3f}\".format(recall_score(y_test, y_pred))) \n",
    "print(\"Prediction accuracy = {:.3f}\".format(accuracy_score(y_test, y_pred)))"
   ]
  },
  {
   "cell_type": "code",
   "execution_count": 17,
   "metadata": {},
   "outputs": [
    {
     "name": "stdout",
     "output_type": "stream",
     "text": [
      "[[0.67786599 0.32213401]\n",
      " [0.25447244 0.74552756]]\n"
     ]
    },
    {
     "data": {
      "image/png": "[encoded data removed]",
      "text/plain": [
       "<Figure size 432x288 with 2 Axes>"
      ]
     },
     "metadata": {
      "needs_background": "light"
     },
     "output_type": "display_data"
    }
   ],
   "source": [
    "title = 'Confusion Matrix'\n",
    "disp = plot_confusion_matrix(clf, X_test, y_test,\n",
    "                             cmap=plt.cm.Blues,\n",
    "                             normalize='true')\n",
    "disp.ax_.set_title(title)\n",
    "\n",
    "print(disp.confusion_matrix)"
   ]
  },
  {
   "cell_type": "code",
   "execution_count": 18,
   "metadata": {},
   "outputs": [
    {
     "data": {
      "image/svg+xml": [
       "<?xml version=\"1.0\" encoding=\"UTF-8\" standalone=\"no\"?>\n",
       "<!DOCTYPE svg PUBLIC \"-//W3C//DTD SVG 1.1//EN\"\n",
       " \"http://www.w3.org/Graphics/SVG/1.1/DTD/svg11.dtd\">\n",
       "<!-- Generated by graphviz version 2.40.1 (20161225.0304)\n",
       " -->\n",
       "<!-- Title: Tree Pages: 1 -->\n",
       "<svg width=\"632pt\" height=\"269pt\"\n",
       " viewBox=\"0.00 0.00 632.00 269.00\" xmlns=\"http://www.w3.org/2000/svg\" xmlns:xlink=\"http://www.w3.org/1999/xlink\">\n",
       "<g id=\"graph0\" class=\"graph\" transform=\"scale(1 1) rotate(0) translate(4 265)\">\n",
       "<title>Tree</title>\n",
       "<polygon fill=\"#ffffff\" stroke=\"transparent\" points=\"-4,4 -4,-265 628,-265 628,4 -4,4\"/>\n",
       "<!-- 0 -->\n",
       "<g id=\"node1\" class=\"node\">\n",
       "<title>0</title>\n",
       "<path fill=\"#ffffff\" stroke=\"#000000\" d=\"M377,-261C377,-261 251,-261 251,-261 245,-261 239,-255 239,-249 239,-249 239,-205 239,-205 239,-199 245,-193 251,-193 251,-193 377,-193 377,-193 383,-193 389,-199 389,-205 389,-205 389,-249 389,-249 389,-255 383,-261 377,-261\"/>\n",
       "<text text-anchor=\"middle\" x=\"314\" y=\"-245.8\" font-family=\"Helvetica,sans-Serif\" font-size=\"14.00\" fill=\"#000000\">slope_sales &lt;= 0.002</text>\n",
       "<text text-anchor=\"middle\" x=\"314\" y=\"-230.8\" font-family=\"Helvetica,sans-Serif\" font-size=\"14.00\" fill=\"#000000\">gini = 0.5</text>\n",
       "<text text-anchor=\"middle\" x=\"314\" y=\"-215.8\" font-family=\"Helvetica,sans-Serif\" font-size=\"14.00\" fill=\"#000000\">samples = 15982</text>\n",
       "<text text-anchor=\"middle\" x=\"314\" y=\"-200.8\" font-family=\"Helvetica,sans-Serif\" font-size=\"14.00\" fill=\"#000000\">value = [7991, 7991]</text>\n",
       "</g>\n",
       "<!-- 1 -->\n",
       "<g id=\"node2\" class=\"node\">\n",
       "<title>1</title>\n",
       "<path fill=\"#f3c4a3\" stroke=\"#000000\" d=\"M293,-157C293,-157 173,-157 173,-157 167,-157 161,-151 161,-145 161,-145 161,-101 161,-101 161,-95 167,-89 173,-89 173,-89 293,-89 293,-89 299,-89 305,-95 305,-101 305,-101 305,-145 305,-145 305,-151 299,-157 293,-157\"/>\n",
       "<text text-anchor=\"middle\" x=\"233\" y=\"-141.8\" font-family=\"Helvetica,sans-Serif\" font-size=\"14.00\" fill=\"#000000\">Frequency &lt;= 33.5</text>\n",
       "<text text-anchor=\"middle\" x=\"233\" y=\"-126.8\" font-family=\"Helvetica,sans-Serif\" font-size=\"14.00\" fill=\"#000000\">gini = 0.454</text>\n",
       "<text text-anchor=\"middle\" x=\"233\" y=\"-111.8\" font-family=\"Helvetica,sans-Serif\" font-size=\"14.00\" fill=\"#000000\">samples = 8539</text>\n",
       "<text text-anchor=\"middle\" x=\"233\" y=\"-96.8\" font-family=\"Helvetica,sans-Serif\" font-size=\"14.00\" fill=\"#000000\">value = [5570, 2969]</text>\n",
       "</g>\n",
       "<!-- 0&#45;&gt;1 -->\n",
       "<g id=\"edge1\" class=\"edge\">\n",
       "<title>0&#45;&gt;1</title>\n",
       "<path fill=\"none\" stroke=\"#000000\" d=\"M287.4776,-192.9465C280.5546,-184.0578 273.0106,-174.3716 265.804,-165.1188\"/>\n",
       "<polygon fill=\"#000000\" stroke=\"#000000\" points=\"268.488,-162.8688 259.582,-157.13 262.9654,-167.1701 268.488,-162.8688\"/>\n",
       "<text text-anchor=\"middle\" x=\"256.4977\" y=\"-178.239\" font-family=\"Helvetica,sans-Serif\" font-size=\"14.00\" fill=\"#000000\">True</text>\n",
       "</g>\n",
       "<!-- 4 -->\n",
       "<g id=\"node5\" class=\"node\">\n",
       "<title>4</title>\n",
       "<path fill=\"#98ccf2\" stroke=\"#000000\" d=\"M455,-157C455,-157 335,-157 335,-157 329,-157 323,-151 323,-145 323,-145 323,-101 323,-101 323,-95 329,-89 335,-89 335,-89 455,-89 455,-89 461,-89 467,-95 467,-101 467,-101 467,-145 467,-145 467,-151 461,-157 455,-157\"/>\n",
       "<text text-anchor=\"middle\" x=\"395\" y=\"-141.8\" font-family=\"Helvetica,sans-Serif\" font-size=\"14.00\" fill=\"#000000\">q9 &lt;= 28.55</text>\n",
       "<text text-anchor=\"middle\" x=\"395\" y=\"-126.8\" font-family=\"Helvetica,sans-Serif\" font-size=\"14.00\" fill=\"#000000\">gini = 0.439</text>\n",
       "<text text-anchor=\"middle\" x=\"395\" y=\"-111.8\" font-family=\"Helvetica,sans-Serif\" font-size=\"14.00\" fill=\"#000000\">samples = 7443</text>\n",
       "<text text-anchor=\"middle\" x=\"395\" y=\"-96.8\" font-family=\"Helvetica,sans-Serif\" font-size=\"14.00\" fill=\"#000000\">value = [2421, 5022]</text>\n",
       "</g>\n",
       "<!-- 0&#45;&gt;4 -->\n",
       "<g id=\"edge4\" class=\"edge\">\n",
       "<title>0&#45;&gt;4</title>\n",
       "<path fill=\"none\" stroke=\"#000000\" d=\"M340.5224,-192.9465C347.4454,-184.0578 354.9894,-174.3716 362.196,-165.1188\"/>\n",
       "<polygon fill=\"#000000\" stroke=\"#000000\" points=\"365.0346,-167.1701 368.418,-157.13 359.512,-162.8688 365.0346,-167.1701\"/>\n",
       "<text text-anchor=\"middle\" x=\"371.5023\" y=\"-178.239\" font-family=\"Helvetica,sans-Serif\" font-size=\"14.00\" fill=\"#000000\">False</text>\n",
       "</g>\n",
       "<!-- 2 -->\n",
       "<g id=\"node3\" class=\"node\">\n",
       "<title>2</title>\n",
       "<path fill=\"#fdf8f3\" stroke=\"#000000\" d=\"M132,-53C132,-53 12,-53 12,-53 6,-53 0,-47 0,-41 0,-41 0,-12 0,-12 0,-6 6,0 12,0 12,0 132,0 132,0 138,0 144,-6 144,-12 144,-12 144,-41 144,-41 144,-47 138,-53 132,-53\"/>\n",
       "<text text-anchor=\"middle\" x=\"72\" y=\"-37.8\" font-family=\"Helvetica,sans-Serif\" font-size=\"14.00\" fill=\"#000000\">gini = 0.5</text>\n",
       "<text text-anchor=\"middle\" x=\"72\" y=\"-22.8\" font-family=\"Helvetica,sans-Serif\" font-size=\"14.00\" fill=\"#000000\">samples = 3595</text>\n",
       "<text text-anchor=\"middle\" x=\"72\" y=\"-7.8\" font-family=\"Helvetica,sans-Serif\" font-size=\"14.00\" fill=\"#000000\">value = [1852, 1743]</text>\n",
       "</g>\n",
       "<!-- 1&#45;&gt;2 -->\n",
       "<g id=\"edge2\" class=\"edge\">\n",
       "<title>1&#45;&gt;2</title>\n",
       "<path fill=\"none\" stroke=\"#000000\" d=\"M176.2374,-88.9777C159.6614,-79.0424 141.6107,-68.2232 125.2598,-58.4228\"/>\n",
       "<polygon fill=\"#000000\" stroke=\"#000000\" points=\"126.7477,-55.2341 116.371,-53.095 123.1489,-61.2382 126.7477,-55.2341\"/>\n",
       "</g>\n",
       "<!-- 3 -->\n",
       "<g id=\"node4\" class=\"node\">\n",
       "<title>3</title>\n",
       "<path fill=\"#eeab7a\" stroke=\"#000000\" d=\"M294,-53C294,-53 174,-53 174,-53 168,-53 162,-47 162,-41 162,-41 162,-12 162,-12 162,-6 168,0 174,0 174,0 294,0 294,0 300,0 306,-6 306,-12 306,-12 306,-41 306,-41 306,-47 300,-53 294,-53\"/>\n",
       "<text text-anchor=\"middle\" x=\"234\" y=\"-37.8\" font-family=\"Helvetica,sans-Serif\" font-size=\"14.00\" fill=\"#000000\">gini = 0.373</text>\n",
       "<text text-anchor=\"middle\" x=\"234\" y=\"-22.8\" font-family=\"Helvetica,sans-Serif\" font-size=\"14.00\" fill=\"#000000\">samples = 4944</text>\n",
       "<text text-anchor=\"middle\" x=\"234\" y=\"-7.8\" font-family=\"Helvetica,sans-Serif\" font-size=\"14.00\" fill=\"#000000\">value = [3718, 1226]</text>\n",
       "</g>\n",
       "<!-- 1&#45;&gt;3 -->\n",
       "<g id=\"edge3\" class=\"edge\">\n",
       "<title>1&#45;&gt;3</title>\n",
       "<path fill=\"none\" stroke=\"#000000\" d=\"M233.3526,-88.9777C233.438,-80.7364 233.5297,-71.887 233.6164,-63.5153\"/>\n",
       "<polygon fill=\"#000000\" stroke=\"#000000\" points=\"237.1189,-63.2842 233.7228,-53.2485 230.1193,-63.2116 237.1189,-63.2842\"/>\n",
       "</g>\n",
       "<!-- 5 -->\n",
       "<g id=\"node6\" class=\"node\">\n",
       "<title>5</title>\n",
       "<path fill=\"#6db7ec\" stroke=\"#000000\" d=\"M450,-53C450,-53 338,-53 338,-53 332,-53 326,-47 326,-41 326,-41 326,-12 326,-12 326,-6 332,0 338,0 338,0 450,0 450,0 456,0 462,-6 462,-12 462,-12 462,-41 462,-41 462,-47 456,-53 450,-53\"/>\n",
       "<text text-anchor=\"middle\" x=\"394\" y=\"-37.8\" font-family=\"Helvetica,sans-Serif\" font-size=\"14.00\" fill=\"#000000\">gini = 0.329</text>\n",
       "<text text-anchor=\"middle\" x=\"394\" y=\"-22.8\" font-family=\"Helvetica,sans-Serif\" font-size=\"14.00\" fill=\"#000000\">samples = 2243</text>\n",
       "<text text-anchor=\"middle\" x=\"394\" y=\"-7.8\" font-family=\"Helvetica,sans-Serif\" font-size=\"14.00\" fill=\"#000000\">value = [466, 1777]</text>\n",
       "</g>\n",
       "<!-- 4&#45;&gt;5 -->\n",
       "<g id=\"edge5\" class=\"edge\">\n",
       "<title>4&#45;&gt;5</title>\n",
       "<path fill=\"none\" stroke=\"#000000\" d=\"M394.6474,-88.9777C394.562,-80.7364 394.4703,-71.887 394.3836,-63.5153\"/>\n",
       "<polygon fill=\"#000000\" stroke=\"#000000\" points=\"397.8807,-63.2116 394.2772,-53.2485 390.8811,-63.2842 397.8807,-63.2116\"/>\n",
       "</g>\n",
       "<!-- 6 -->\n",
       "<g id=\"node7\" class=\"node\">\n",
       "<title>6</title>\n",
       "<path fill=\"#b0d8f5\" stroke=\"#000000\" d=\"M612,-53C612,-53 492,-53 492,-53 486,-53 480,-47 480,-41 480,-41 480,-12 480,-12 480,-6 486,0 492,0 492,0 612,0 612,0 618,0 624,-6 624,-12 624,-12 624,-41 624,-41 624,-47 618,-53 612,-53\"/>\n",
       "<text text-anchor=\"middle\" x=\"552\" y=\"-37.8\" font-family=\"Helvetica,sans-Serif\" font-size=\"14.00\" fill=\"#000000\">gini = 0.469</text>\n",
       "<text text-anchor=\"middle\" x=\"552\" y=\"-22.8\" font-family=\"Helvetica,sans-Serif\" font-size=\"14.00\" fill=\"#000000\">samples = 5200</text>\n",
       "<text text-anchor=\"middle\" x=\"552\" y=\"-7.8\" font-family=\"Helvetica,sans-Serif\" font-size=\"14.00\" fill=\"#000000\">value = [1955, 3245]</text>\n",
       "</g>\n",
       "<!-- 4&#45;&gt;6 -->\n",
       "<g id=\"edge6\" class=\"edge\">\n",
       "<title>4&#45;&gt;6</title>\n",
       "<path fill=\"none\" stroke=\"#000000\" d=\"M450.3523,-88.9777C466.442,-79.0882 483.9566,-68.3229 499.8429,-58.5583\"/>\n",
       "<polygon fill=\"#000000\" stroke=\"#000000\" points=\"501.7951,-61.4667 508.4818,-53.2485 498.1296,-55.5032 501.7951,-61.4667\"/>\n",
       "</g>\n",
       "</g>\n",
       "</svg>\n"
      ],
      "text/plain": [
       "<graphviz.files.Source at 0x1263c13d0>"
      ]
     },
     "execution_count": 18,
     "metadata": {},
     "output_type": "execute_result"
    }
   ],
   "source": [
    "clf = DecisionTreeClassifier(max_depth = 2)\n",
    "clf.fit(X_train, y_train)\n",
    "\n",
    "dot_data = tree.export_graphviz(clf, out_file=None,\n",
    "                               feature_names=X.columns,\n",
    "                               filled=True, rounded=True,) \n",
    "graph = graphviz.Source(dot_data) \n",
    "graph"
   ]
  },
  {
   "cell_type": "markdown",
   "metadata": {},
   "source": [
    "## Random Forest"
   ]
  },
  {
   "cell_type": "code",
   "execution_count": 19,
   "metadata": {},
   "outputs": [
    {
     "name": "stdout",
     "output_type": "stream",
     "text": [
      "Entrée dans la CV\n",
      "Résultats de la validation croisée :\n"
     ]
    },
    {
     "data": {
      "application/vnd.jupyter.widget-view+json": {
       "model_id": "d0b6f260536546cb8c99a8e922bb4e54",
       "version_major": 2,
       "version_minor": 0
      },
      "text/plain": [
       "HBox(children=(IntProgress(value=1, bar_style='info', max=1), HTML(value='')))"
      ]
     },
     "metadata": {},
     "output_type": "display_data"
    },
    {
     "name": "stdout",
     "output_type": "stream",
     "text": [
      "recall = 0.739 (+/-0.027) for {'random_forest__max_depth': 5, 'random_forest__n_estimators': 70}\n",
      "recall = 0.736 (+/-0.029) for {'random_forest__max_depth': 5, 'random_forest__n_estimators': 110}\n",
      "recall = 0.742 (+/-0.023) for {'random_forest__max_depth': 5, 'random_forest__n_estimators': 150}\n",
      "recall = 0.740 (+/-0.031) for {'random_forest__max_depth': 5, 'random_forest__n_estimators': 190}\n",
      "recall = 0.750 (+/-0.015) for {'random_forest__max_depth': 10, 'random_forest__n_estimators': 70}\n",
      "recall = 0.753 (+/-0.021) for {'random_forest__max_depth': 10, 'random_forest__n_estimators': 110}\n",
      "recall = 0.751 (+/-0.022) for {'random_forest__max_depth': 10, 'random_forest__n_estimators': 150}\n",
      "recall = 0.756 (+/-0.017) for {'random_forest__max_depth': 10, 'random_forest__n_estimators': 190}\n",
      "recall = 0.760 (+/-0.019) for {'random_forest__max_depth': 15, 'random_forest__n_estimators': 70}\n",
      "recall = 0.767 (+/-0.019) for {'random_forest__max_depth': 15, 'random_forest__n_estimators': 110}\n",
      "recall = 0.767 (+/-0.016) for {'random_forest__max_depth': 15, 'random_forest__n_estimators': 150}\n",
      "recall = 0.765 (+/-0.014) for {'random_forest__max_depth': 15, 'random_forest__n_estimators': 190}\n",
      "\n",
      "\n",
      "Best params : {'random_forest__max_depth': 15, 'random_forest__n_estimators': 110}\n",
      "Prediction recall = 0.759\n",
      "Prediction accuracy = 0.731\n"
     ]
    }
   ],
   "source": [
    "pipeline =  Pipeline([('scaler', scaler),\n",
    "                      \n",
    "                      ('random_forest', RandomForestClassifier())])\n",
    "param_grid = {'random_forest__max_depth': np.arange(5, 16, 5),\n",
    "              'random_forest__n_estimators': np.arange(70, 201, 40)}\n",
    "\n",
    "print(\"Entrée dans la CV\")\n",
    "kfold = StratifiedKFold(n_splits=3)\n",
    "clf = GridSearchCV(pipeline, param_grid, cv=kfold, scoring=scoring)\n",
    "clf.fit(X_train, y_train)\n",
    "\n",
    "y_pred = clf.predict(X_test)\n",
    "print(\"Résultats de la validation croisée :\")\n",
    "for mean, std, params in tqdm(zip(clf.cv_results_['mean_test_score'], clf.cv_results_['std_test_score'], clf.cv_results_['params'])):\n",
    "    print(\"{} = {:.3f} (+/-{:.03f}) for {}\".format(scoring, mean, std*2, params))\n",
    "\n",
    "print(\"\\nBest params : {}\".format(clf.best_params_)) \n",
    "print(\"Prediction recall = {:.3f}\".format(recall_score(y_test, y_pred))) \n",
    "print(\"Prediction accuracy = {:.3f}\".format(accuracy_score(y_test, y_pred)))"
   ]
  },
  {
   "cell_type": "code",
   "execution_count": 20,
   "metadata": {},
   "outputs": [
    {
     "name": "stdout",
     "output_type": "stream",
     "text": [
      "[[15405  5757]\n",
      " [  661  2078]]\n"
     ]
    },
    {
     "data": {
      "image/png": "[encoded data removed]",
      "text/plain": [
       "<Figure size 432x288 with 2 Axes>"
      ]
     },
     "metadata": {
      "needs_background": "light"
     },
     "output_type": "display_data"
    }
   ],
   "source": [
    "\n",
    "title = 'Confusion Matrix'\n",
    "disp = plot_confusion_matrix(clf, X_test, y_test,\n",
    "                             cmap=plt.cm.Blues)\n",
    "disp.ax_.set_title(title)\n",
    "\n",
    "print(disp.confusion_matrix)"
   ]
  },
  {
   "cell_type": "code",
   "execution_count": 21,
   "metadata": {},
   "outputs": [
    {
     "name": "stdout",
     "output_type": "stream",
     "text": [
      "[[0.72795577 0.27204423]\n",
      " [0.24132895 0.75867105]]\n"
     ]
    },
    {
     "data": {
      "image/png": "[encoded data removed]",
      "text/plain": [
       "<Figure size 432x288 with 2 Axes>"
      ]
     },
     "metadata": {
      "needs_background": "light"
     },
     "output_type": "display_data"
    }
   ],
   "source": [
    "title = 'Confusion Matrix'\n",
    "disp = plot_confusion_matrix(clf, X_test, y_test,\n",
    "                             cmap=plt.cm.Blues, normalize = 'true')\n",
    "disp.ax_.set_title(title)\n",
    "\n",
    "print(disp.confusion_matrix)"
   ]
  },
  {
   "cell_type": "markdown",
   "metadata": {},
   "source": [
    "# Ada boost"
   ]
  },
  {
   "cell_type": "code",
   "execution_count": 26,
   "metadata": {},
   "outputs": [
    {
     "name": "stdout",
     "output_type": "stream",
     "text": [
      "Entrée dans la CV\n",
      "Résultats de la validation croisée :\n"
     ]
    },
    {
     "data": {
      "application/vnd.jupyter.widget-view+json": {
       "model_id": "c488ba25c4f5452ba5ba06ecb0e5b0ad",
       "version_major": 2,
       "version_minor": 0
      },
      "text/plain": [
       "HBox(children=(IntProgress(value=1, bar_style='info', max=1), HTML(value='')))"
      ]
     },
     "metadata": {},
     "output_type": "display_data"
    },
    {
     "name": "stdout",
     "output_type": "stream",
     "text": [
      "recall = 0.815 (+/-0.022) for {'adaboost__n_estimators': 70}\n",
      "recall = 0.817 (+/-0.016) for {'adaboost__n_estimators': 110}\n",
      "recall = 0.814 (+/-0.016) for {'adaboost__n_estimators': 150}\n",
      "recall = 0.815 (+/-0.018) for {'adaboost__n_estimators': 190}\n",
      "\n",
      "\n",
      "Best params : {'adaboost__n_estimators': 110}\n",
      "Prediction recall = 0.808\n",
      "Prediction accuracy = 0.817\n"
     ]
    }
   ],
   "source": [
    "pipeline =  Pipeline([('scaler', scaler),\n",
    "                      \n",
    "                      ('adaboost', AdaBoostClassifier())])\n",
    "param_grid = {\n",
    "              'adaboost__n_estimators': np.arange(70, 201, 40)}\n",
    "\n",
    "print(\"Entrée dans la CV\")\n",
    "kfold = StratifiedKFold(n_splits=3)\n",
    "clf = GridSearchCV(pipeline, param_grid, cv=kfold, scoring=scoring)\n",
    "clf.fit(X_train, y_train)\n",
    "\n",
    "y_pred = clf.predict(X_test)\n",
    "print(\"Résultats de la validation croisée :\")\n",
    "for mean, std, params in tqdm(zip(clf.cv_results_['mean_test_score'], clf.cv_results_['std_test_score'], clf.cv_results_['params'])):\n",
    "    print(\"{} = {:.3f} (+/-{:.03f}) for {}\".format(scoring, mean, std*2, params))\n",
    "\n",
    "print(\"\\nBest params : {}\".format(clf.best_params_)) \n",
    "print(\"Prediction recall = {:.3f}\".format(recall_score(y_test, y_pred))) \n",
    "print(\"Prediction accuracy = {:.3f}\".format(accuracy_score(y_test, y_pred)))"
   ]
  },
  {
   "cell_type": "code",
   "execution_count": 27,
   "metadata": {},
   "outputs": [
    {
     "name": "stdout",
     "output_type": "stream",
     "text": [
      "[[0.81783385 0.18216615]\n",
      " [0.19167579 0.80832421]]\n"
     ]
    },
    {
     "data": {
      "image/png": "[encoded data removed]",
      "text/plain": [
       "<Figure size 432x288 with 2 Axes>"
      ]
     },
     "metadata": {
      "needs_background": "light"
     },
     "output_type": "display_data"
    }
   ],
   "source": [
    "\n",
    "title = 'Confusion Matrix'\n",
    "disp = plot_confusion_matrix(clf, X_test, y_test,\n",
    "                             cmap=plt.cm.Blues,\n",
    "                             normalize='true')\n",
    "disp.ax_.set_title(title)\n",
    "\n",
    "print(disp.confusion_matrix)"
   ]
  },
  {
   "cell_type": "markdown",
   "metadata": {},
   "source": [
    "# Gradient Boost"
   ]
  },
  {
   "cell_type": "code",
   "execution_count": 28,
   "metadata": {},
   "outputs": [
    {
     "name": "stdout",
     "output_type": "stream",
     "text": [
      "Entrée dans la CV\n",
      "Résultats de la validation croisée :\n"
     ]
    },
    {
     "data": {
      "application/vnd.jupyter.widget-view+json": {
       "model_id": "0a6b33bae13a4ee9b5a8d51716d138c9",
       "version_major": 2,
       "version_minor": 0
      },
      "text/plain": [
       "HBox(children=(IntProgress(value=1, bar_style='info', max=1), HTML(value='')))"
      ]
     },
     "metadata": {},
     "output_type": "display_data"
    },
    {
     "name": "stdout",
     "output_type": "stream",
     "text": [
      "recall = 0.843 (+/-0.016) for {'XGB__n_estimators': 70}\n",
      "recall = 0.842 (+/-0.019) for {'XGB__n_estimators': 110}\n",
      "recall = 0.842 (+/-0.016) for {'XGB__n_estimators': 150}\n",
      "recall = 0.840 (+/-0.016) for {'XGB__n_estimators': 190}\n",
      "\n",
      "\n",
      "Best params : {'XGB__n_estimators': 70}\n",
      "Prediction recall = 0.829\n",
      "Prediction accuracy = 0.809\n"
     ]
    }
   ],
   "source": [
    "pipeline =  Pipeline([('scaler', scaler),\n",
    "                      \n",
    "                      ('XGB', GradientBoostingClassifier())])\n",
    "param_grid = {\n",
    "              'XGB__n_estimators': np.arange(70, 201, 40)}\n",
    "\n",
    "print(\"Entrée dans la CV\")\n",
    "kfold = StratifiedKFold(n_splits=3)\n",
    "clf = GridSearchCV(pipeline, param_grid, cv=kfold, scoring=scoring)\n",
    "clf.fit(X_train, y_train)\n",
    "\n",
    "y_pred = clf.predict(X_test)\n",
    "print(\"Résultats de la validation croisée :\")\n",
    "for mean, std, params in tqdm(zip(clf.cv_results_['mean_test_score'], clf.cv_results_['std_test_score'], clf.cv_results_['params'])):\n",
    "    print(\"{} = {:.3f} (+/-{:.03f}) for {}\".format(scoring, mean, std*2, params))\n",
    "\n",
    "print(\"\\nBest params : {}\".format(clf.best_params_)) \n",
    "print(\"Prediction recall = {:.3f}\".format(recall_score(y_test, y_pred))) \n",
    "print(\"Prediction accuracy = {:.3f}\".format(accuracy_score(y_test, y_pred)))"
   ]
  },
  {
   "cell_type": "code",
   "execution_count": 29,
   "metadata": {},
   "outputs": [
    {
     "name": "stdout",
     "output_type": "stream",
     "text": [
      "[[0.80583121 0.19416879]\n",
      " [0.17086528 0.82913472]]\n"
     ]
    },
    {
     "data": {
      "image/png": "[encoded data removed]",
      "text/plain": [
       "<Figure size 432x288 with 2 Axes>"
      ]
     },
     "metadata": {
      "needs_background": "light"
     },
     "output_type": "display_data"
    }
   ],
   "source": [
    "\n",
    "title = 'Confusion Matrix'\n",
    "disp = plot_confusion_matrix(clf, X_test, y_test,\n",
    "                             cmap=plt.cm.Blues,\n",
    "                             normalize='true')\n",
    "disp.ax_.set_title(title)\n",
    "\n",
    "print(disp.confusion_matrix)"
   ]
  },
  {
   "cell_type": "markdown",
   "metadata": {},
   "source": [
    "# Bayes"
   ]
  },
  {
   "cell_type": "code",
   "execution_count": 30,
   "metadata": {},
   "outputs": [
    {
     "name": "stdout",
     "output_type": "stream",
     "text": [
      "Prediction recall = 0.019\n",
      "Prediction accuracy = 0.885\n"
     ]
    }
   ],
   "source": [
    "clf = GaussianNB()\n",
    "pipeline =  Pipeline([\n",
    "\n",
    "('scaler_min_max', scaler),\n",
    "('GNB', clf)])\n",
    "pipeline.fit(X_train, y_train)\n",
    "\n",
    "y_pred = clf.predict(X_test)\n",
    "\n",
    "print(\"Prediction recall = {:.3f}\".format(recall_score(y_test, y_pred)))\n",
    "print(\"Prediction accuracy = {:.3f}\".format(accuracy_score(y_test, y_pred)))"
   ]
  },
  {
   "cell_type": "code",
   "execution_count": 31,
   "metadata": {},
   "outputs": [
    {
     "name": "stdout",
     "output_type": "stream",
     "text": [
      "[[0.99683395 0.00316605]\n",
      " [0.98064987 0.01935013]]\n"
     ]
    },
    {
     "data": {
      "image/png": "[encoded data removed]",
      "text/plain": [
       "<Figure size 432x288 with 2 Axes>"
      ]
     },
     "metadata": {
      "needs_background": "light"
     },
     "output_type": "display_data"
    }
   ],
   "source": [
    "\n",
    "title = 'Confusion Matrix'\n",
    "disp = plot_confusion_matrix(clf, X_test, y_test,\n",
    "                             cmap=plt.cm.Blues,\n",
    "                             normalize='true')\n",
    "disp.ax_.set_title(title)\n",
    "\n",
    "print(disp.confusion_matrix)"
   ]
  },
  {
   "cell_type": "markdown",
   "metadata": {},
   "source": [
    "On s'y attendait car l'hypothèse principale du modèle est l'indépendance des variables.\n",
    "Ici les variables sont tout sauf indépendantes (PCA avec 1 composant rassemblait 99% de l'info)"
   ]
  },
  {
   "cell_type": "code",
   "execution_count": null,
   "metadata": {},
   "outputs": [],
   "source": []
  }
 ],
 "metadata": {
  "kernelspec": {
   "display_name": "Python 3",
   "language": "python",
   "name": "python3"
  },
  "language_info": {
   "codemirror_mode": {
    "name": "ipython",
    "version": 3
   },
   "file_extension": ".py",
   "mimetype": "text/x-python",
   "name": "python",
   "nbconvert_exporter": "python",
   "pygments_lexer": "ipython3",
   "version": "3.7.4"
  }
 },
 "nbformat": 4,
 "nbformat_minor": 2
}
